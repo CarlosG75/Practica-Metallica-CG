{
 "cells": [
  {
   "cell_type": "markdown",
   "metadata": {},
   "source": [
    "<center>\n",
    "    <img src=\"https://cf-courses-data.s3.us.cloud-object-storage.appdomain.cloud/IBMDeveloperSkillsNetwork-DS0105EN-SkillsNetwork/labs/Module2/images/SN_web_lightmode.png\" width=\"300\" alt=\"cognitiveclass.ai logo\">\n",
    "</center>\n"
   ]
  },
  {
   "cell_type": "markdown",
   "metadata": {},
   "source": [
    "#### Add your code below following the instructions given in the course\n"
   ]
  },
  {
   "cell_type": "markdown",
   "metadata": {},
   "source": [
    "# Discografia de Metallica"
   ]
  },
  {
   "cell_type": "markdown",
   "metadata": {},
   "source": [
    "Este libro se ha creado como un mero ejercicio"
   ]
  },
  {
   "cell_type": "markdown",
   "metadata": {
    "tags": []
   },
   "source": [
    "### **Autor** : Carlos Grande"
   ]
  },
  {
   "cell_type": "markdown",
   "metadata": {},
   "source": [
    "Mettalica es una banda de thrash metal fundada en San Franciso en 1981 por James Hetfield y Lars Ulrich\n",
    "\n"
   ]
  },
  {
   "cell_type": "markdown",
   "metadata": {},
   "source": [
    " | Año | Album |\n",
    " |:-----:|:-------:|\n",
    " | 1983 | Kill ´Em All |\n",
    " | 1984 | Ride the Ligthning |\n",
    " | 1986 | Master of Puppets |\n",
    " | 1988 | ... And Justice for All |\n",
    " | 1991 | Metallica |\n",
    " | 1996 | Load |\n",
    " | 1997 | Reload |\n",
    " | 2003 | St. Anger |\n",
    " | 2008 | Death Magnetic |\n",
    " | 2016 | Hardwired..to self destruct |\n",
    " | 2023 | 72 Seasons |\n",
    " "
   ]
  },
  {
   "cell_type": "markdown",
   "metadata": {
    "tags": []
   },
   "source": [
    "Para mas informacion : [Web Oficial](https://metallica.com)"
   ]
  },
  {
   "cell_type": "code",
   "execution_count": null,
   "metadata": {},
   "outputs": [],
   "source": []
  },
  {
   "cell_type": "code",
   "execution_count": null,
   "metadata": {},
   "outputs": [],
   "source": []
  }
 ],
 "metadata": {
  "kernelspec": {
   "display_name": "Python",
   "language": "python",
   "name": "conda-env-python-py"
  },
  "language_info": {
   "codemirror_mode": {
    "name": "ipython",
    "version": 3
   },
   "file_extension": ".py",
   "mimetype": "text/x-python",
   "name": "python",
   "nbconvert_exporter": "python",
   "pygments_lexer": "ipython3",
   "version": "3.7.12"
  }
 },
 "nbformat": 4,
 "nbformat_minor": 4
}
